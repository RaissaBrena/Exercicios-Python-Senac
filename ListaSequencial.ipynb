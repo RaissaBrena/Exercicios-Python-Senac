{
  "nbformat": 4,
  "nbformat_minor": 0,
  "metadata": {
    "colab": {
      "name": "ListaSequencial.ipynb",
      "provenance": [],
      "collapsed_sections": [],
      "authorship_tag": "ABX9TyOmptm10HIdBoeExVML+ZAG",
      "include_colab_link": true
    },
    "kernelspec": {
      "name": "python3",
      "display_name": "Python 3"
    },
    "language_info": {
      "name": "python"
    }
  },
  "cells": [
    {
      "cell_type": "markdown",
      "metadata": {
        "id": "view-in-github",
        "colab_type": "text"
      },
      "source": [
        "<a href=\"https://colab.research.google.com/github/RaissaBrena/Exercicios-Python-Senac/blob/main/ListaSequencial.ipynb\" target=\"_parent\"><img src=\"https://colab.research.google.com/assets/colab-badge.svg\" alt=\"Open In Colab\"/></a>"
      ]
    },
    {
      "cell_type": "markdown",
      "metadata": {
        "id": "xsfBndSfR8-H"
      },
      "source": [
        "# ***LISTA ORIGINAL EM: https://wiki.python.org.br/EstruturaSequencial***"
      ]
    },
    {
      "cell_type": "markdown",
      "metadata": {
        "id": "iK9YT_B00JwM"
      },
      "source": [
        "**1.Faça um Programa que mostre a mensagem \"Alo mundo\" na tela.**"
      ]
    },
    {
      "cell_type": "code",
      "metadata": {
        "colab": {
          "base_uri": "https://localhost:8080/"
        },
        "id": "qvvtXW4cSsut",
        "outputId": "adc7174d-c14f-49f2-e523-80e73e9582f6"
      },
      "source": [
        "print(\"Alo\")"
      ],
      "execution_count": null,
      "outputs": [
        {
          "output_type": "stream",
          "name": "stdout",
          "text": [
            "Alo\n"
          ]
        }
      ]
    },
    {
      "cell_type": "markdown",
      "metadata": {
        "id": "zjAvHnzlS6YB"
      },
      "source": [
        "**2.Faça um Programa que peça um número e então mostre a mensagem O número informado foi [número].**"
      ]
    },
    {
      "cell_type": "code",
      "metadata": {
        "colab": {
          "base_uri": "https://localhost:8080/"
        },
        "id": "yBE89E8ZTC5h",
        "outputId": "8ad4f550-bbcc-47cd-d05a-1cc3732ef844"
      },
      "source": [
        "numero = input(\"Por favor, informe um número.\")\n",
        "print(\"O número informado foi\" , numero)"
      ],
      "execution_count": null,
      "outputs": [
        {
          "output_type": "stream",
          "name": "stdout",
          "text": [
            "Por favor, informe um número.10\n",
            "O número informado foi 10\n"
          ]
        }
      ]
    },
    {
      "cell_type": "markdown",
      "metadata": {
        "id": "xvAUAfylTrY6"
      },
      "source": [
        "**3.Faça um Programa que peça dois números e imprima a soma.**"
      ]
    },
    {
      "cell_type": "code",
      "metadata": {
        "colab": {
          "base_uri": "https://localhost:8080/"
        },
        "id": "QwENTGgQTyH5",
        "outputId": "294c1070-7185-44a9-faf7-29d556b33729"
      },
      "source": [
        "numero1 = float(input(\"Por favor, informe um número\"))\n",
        "numero2 = float(input(\"Por favor, informe mais um número\"))\n",
        "print(\"A soma dos números é: \" , (numero1 + numero2))"
      ],
      "execution_count": null,
      "outputs": [
        {
          "output_type": "stream",
          "name": "stdout",
          "text": [
            "Por favor, informe um número10\n",
            "Por favor, informe mais um número20\n",
            "A soma dos números é:  30.0\n"
          ]
        }
      ]
    },
    {
      "cell_type": "markdown",
      "metadata": {
        "id": "5grDg2_0T10G"
      },
      "source": [
        "**4.Faça um Programa que peça as 4 notas bimestrais e mostre a média.**"
      ]
    },
    {
      "cell_type": "code",
      "metadata": {
        "colab": {
          "base_uri": "https://localhost:8080/"
        },
        "id": "c9VuoaZcT7fr",
        "outputId": "ba5a4728-0ae6-4103-8454-e5024a257bd6"
      },
      "source": [
        "nota1 = float(input(\"Por favor, informe a nota do 1º bimestre:\"))\n",
        "nota2 = float(input(\"Por favor, informe a nota do 2º bimestre: \"))\n",
        "nota3 = float(input(\"Por favor, informe a nota do 3º bimestre: \"))\n",
        "nota4 = float(input(\"Por favor, informe a nota do 4º bimestre: \"))\n",
        "media = (nota1 + nota2 + nota3 + nota4) / 4\n",
        "print(\"A média é: \" , media)"
      ],
      "execution_count": null,
      "outputs": [
        {
          "output_type": "stream",
          "name": "stdout",
          "text": [
            "Por favor, informe a nota do 1º bimestre:10\n",
            "Por favor, informe a nota do 2º bimestre: 10\n",
            "Por favor, informe a nota do 3º bimestre: 5\n",
            "Por favor, informe a nota do 4º bimestre: 10\n",
            "A média é:  8.75\n"
          ]
        }
      ]
    },
    {
      "cell_type": "markdown",
      "metadata": {
        "id": "DE4tgRllm-8L"
      },
      "source": [
        "**5.Faça um Programa que converta metros para centímetros.**"
      ]
    },
    {
      "cell_type": "code",
      "metadata": {
        "colab": {
          "base_uri": "https://localhost:8080/"
        },
        "id": "LFsvhxCOnQ_y",
        "outputId": "6e4c9574-b71e-41f6-8ab1-7365151773ea"
      },
      "source": [
        "metros = float(input(\"Por favor, informe uma medida em metros.\"))\n",
        "centimetros = metros * 100\n",
        "print(\"Isso equivale a :\" , centimetros , \" centimetros\")"
      ],
      "execution_count": null,
      "outputs": [
        {
          "output_type": "stream",
          "name": "stdout",
          "text": [
            "Por favor, informe uma medida em metros.1\n",
            "Isso equivale a : 100.0  centimetros\n"
          ]
        }
      ]
    },
    {
      "cell_type": "markdown",
      "metadata": {
        "id": "eDAGK02soU-i"
      },
      "source": [
        "**6.Faça um Programa que peça o raio de um círculo, calcule e mostre sua área.**"
      ]
    },
    {
      "cell_type": "code",
      "metadata": {
        "colab": {
          "base_uri": "https://localhost:8080/"
        },
        "id": "Cm1CzHinsPWw",
        "outputId": "c6ce7793-caec-4c0a-8586-a0d3a3af7b05"
      },
      "source": [
        "#Potenia em python **\n",
        "#Comentario em bloco abre com \"\"\"\" e fecha com \"\"\"\"\n",
        "PI = 3.1415\n",
        "raio = float(input(\"Por favor, informe o raio do seu cíicurlo: \"))\n",
        "area = (PI * raio**2)\n",
        "\n",
        "print(\"A área do seu círculo é : \" , area)"
      ],
      "execution_count": null,
      "outputs": [
        {
          "output_type": "stream",
          "name": "stdout",
          "text": [
            "Por favor, informe o raio do seu cíicurlo: 10\n",
            "A área do seu círculo é :  314.15000000000003\n"
          ]
        }
      ]
    },
    {
      "cell_type": "markdown",
      "metadata": {
        "id": "qu5o9QxzwB8a"
      },
      "source": [
        "**7.Faça um Programa que calcule a área de um quadrado, em seguida mostre o dobro desta área para o usuário.**"
      ]
    },
    {
      "cell_type": "code",
      "metadata": {
        "colab": {
          "base_uri": "https://localhost:8080/"
        },
        "id": "ApGzYQ4CwpxK",
        "outputId": "9d95dd55-8c0a-45d3-bcf1-ac0b50174b3f"
      },
      "source": [
        "AreaQuadrado = 10\n",
        "\n",
        "AreaQuadrado = AreaQuadrado * AreaQuadrado\n",
        "\n",
        "AreaFinal = AreaQuadrado * 2 \n",
        "print (\"O dobro da área do quadrado é:\" , AreaFinal)"
      ],
      "execution_count": null,
      "outputs": [
        {
          "output_type": "stream",
          "name": "stdout",
          "text": [
            "O dobro da área do quadrado é: 200\n"
          ]
        }
      ]
    },
    {
      "cell_type": "markdown",
      "metadata": {
        "id": "3vxdQ5dyxLDP"
      },
      "source": [
        "**8. Faça um Programa que pergunte quanto você ganha por hora e o número de horas trabalhadas no mês. Calcule e mostre o total do seu salário no referido mês.**"
      ]
    },
    {
      "cell_type": "code",
      "metadata": {
        "colab": {
          "base_uri": "https://localhost:8080/"
        },
        "id": "tBcB3KaNxYDW",
        "outputId": "b2e8c25f-a739-4226-f4db-facb5959fb11"
      },
      "source": [
        "salarioHora= float(input(\"Por favor, quanto você ganha por hora?\"))\n",
        "HorasTrabalhadas= float(input(\"Por favor, quantas horas você trabalhou esse mês?\"))\n",
        "\n",
        "salarioBruto = salarioHora * HorasTrabalhadas\n",
        "print(\"Valor do salário é de: R$\" , salarioBruto)"
      ],
      "execution_count": null,
      "outputs": [
        {
          "output_type": "stream",
          "name": "stdout",
          "text": [
            "Por favor, quanto você ganha por hora?10\n",
            "Por favor, quantas horas você trabalhou esse mês?10\n",
            "Valor do salário bruto é: R$ 100.0\n"
          ]
        }
      ]
    },
    {
      "cell_type": "markdown",
      "metadata": {
        "id": "IBDH02fTlOnW"
      },
      "source": [
        "**9.Faça um Programa que peça a temperatura em graus Fahrenheit, transforme e mostre a temperatura em graus Celsius.\n",
        "C = 5 * ((F-32) / 9).**"
      ]
    },
    {
      "cell_type": "code",
      "metadata": {
        "colab": {
          "base_uri": "https://localhost:8080/"
        },
        "id": "jS8LUL2BlVMz",
        "outputId": "d2dc9dfa-1ff6-49fb-8e5c-c5a4130edb3e"
      },
      "source": [
        "farenheit = float(input(\"Por favor, informe a temperatura em Fahrenheit: \"))\n",
        "\n",
        "celsius = 5 * ((farenheit - 32) / 9 )\n",
        "\n",
        "print (\"A temperatura em graus Celsius é: \", celsius )"
      ],
      "execution_count": null,
      "outputs": [
        {
          "output_type": "stream",
          "name": "stdout",
          "text": [
            "Por favor, informe a temperatura em Fahrenheit: -40\n",
            "A temperatura em graus Celsius é:  -40.0\n"
          ]
        }
      ]
    },
    {
      "cell_type": "markdown",
      "metadata": {
        "id": "uHOYoIjUyGem"
      },
      "source": [
        "**10. Faça um Programa que peça a temperatura em graus Celsius, transforme e mostre em graus Fahrenheit.**"
      ]
    },
    {
      "cell_type": "code",
      "metadata": {
        "colab": {
          "base_uri": "https://localhost:8080/"
        },
        "id": "J-S9GBCDySFx",
        "outputId": "8edcb6aa-bd4d-40fe-f0de-0f408c3bae58"
      },
      "source": [
        "celsius = float(input(\"Por favor, informe a temperatura em Celsius: \"))\n",
        "farenheit = ((celsius * 9 ) / 5 ) + 32\n",
        "print (\"A temperatura em graus Celsius é: \", farenheit )"
      ],
      "execution_count": null,
      "outputs": [
        {
          "output_type": "stream",
          "name": "stdout",
          "text": [
            "Por favor, informe a temperatura em Celsius: -40\n",
            "A temperatura em graus Celsius é:  -40.0\n"
          ]
        }
      ]
    },
    {
      "cell_type": "markdown",
      "metadata": {
        "id": "WYgSC1z2zgK0"
      },
      "source": [
        "**11. Faça um Programa que peça 2 números inteiros e um número real. \n",
        "Calcule e mostre:**\n",
        "* a)o produto do dobro do primeiro com metade do segundo .\n",
        "* b)a soma do triplo do primeiro com o terceiro.\n",
        "* c)o terceiro elevado ao cubo."
      ]
    },
    {
      "cell_type": "code",
      "metadata": {
        "colab": {
          "base_uri": "https://localhost:8080/"
        },
        "id": "4EK2SuN90D_x",
        "outputId": "40301dd7-7195-45cc-8752-43f2db0a24c1"
      },
      "source": [
        "numero1 = int(input(\"Por favor, digite um número inteiro: \"))\n",
        "numero2 = int(input(\"Por favor, digite mais um número inteiro: \"))\n",
        "\n",
        "conta1 = (numero1 * 2) * (numero2 /2)\n",
        "\n",
        "numero3 = conta1\n",
        "\n",
        "conta2 = (numero1 * 3) + (numero3)\n",
        "conta3  = numero3 ** 3\n",
        "\n",
        "\n",
        "print(\"Conta1:\" , conta1)\n",
        "print(\"Conta2:\" , conta2)\n",
        "print(\"Conta3:\" , conta3)"
      ],
      "execution_count": null,
      "outputs": [
        {
          "output_type": "stream",
          "name": "stdout",
          "text": [
            "Por favor, digite um número inteiro: 10\n",
            "Por favor, digite mais um número inteiro: 20\n",
            "Conta1: 200.0\n",
            "Conta2: 230.0\n",
            "Conta3: 8000000.0\n"
          ]
        }
      ]
    },
    {
      "cell_type": "markdown",
      "metadata": {
        "id": "qVY_Fv5f3YWI"
      },
      "source": [
        "**12. Tendo como dados de entrada a altura de uma pessoa, construa um algoritmo que calcule seu peso ideal, usando a seguinte fórmula: (72.7*altura) - 58**"
      ]
    },
    {
      "cell_type": "code",
      "metadata": {
        "colab": {
          "base_uri": "https://localhost:8080/"
        },
        "id": "xBGOwutA30YC",
        "outputId": "d49bc5d1-93a2-4e05-864b-eb7be485132a"
      },
      "source": [
        "h = float(input(\"Qual a sua altura?\"))\n",
        "pesoIdeal = (72.2* h ) - 58\n",
        "\n",
        "print(pesoIdeal)"
      ],
      "execution_count": null,
      "outputs": [
        {
          "output_type": "stream",
          "name": "stdout",
          "text": [
            "Qual a sua altura?2\n",
            "86.4\n"
          ]
        }
      ]
    },
    {
      "cell_type": "markdown",
      "metadata": {
        "id": "J827i8pgV-Sd"
      },
      "source": [
        "**13. Tendo como dado de entrada a altura (h) de uma pessoa, construa um algoritmo que calcule seu peso ideal, utilizando as seguintes fórmulas:**\n",
        "**Para homens: (72.7*h) - 58**\n",
        "**Para mulheres: (62.1*h) - 44.7**"
      ]
    },
    {
      "cell_type": "code",
      "metadata": {
        "colab": {
          "base_uri": "https://localhost:8080/"
        },
        "id": "FvhUdMnsWgOc",
        "outputId": "6081c8d6-951a-4eec-e61c-5f6ab5d11555"
      },
      "source": [
        "h = float(input(\"Qual a sua altura?\"))\n",
        "h_homem = (72.2* h ) - 58\n",
        "h_mulher =  (62.1 * h ) - 44.7\n",
        "#print aceita variaveis e a conta em si\n",
        "print(\"Peso ideal para homens\", ((72.2* h ) - 58() , \". Peso ideal para mulheres:\" , h_mulher )"
      ],
      "execution_count": null,
      "outputs": [
        {
          "output_type": "stream",
          "name": "stdout",
          "text": [
            "Qual a sua altura?1.89\n",
            "Peso ideal para homens 78.458 . Peso ideal para mulheres: 72.669\n"
          ]
        }
      ]
    },
    {
      "cell_type": "markdown",
      "metadata": {
        "id": "uARIq-Kl4OcH"
      },
      "source": [
        "**14. João Papo-de-Pescador, homem de bem, comprou um microcomputador para controlar o rendimento diário de seu trabalho. Toda vez que ele traz um peso de peixes maior que o estabelecido pelo regulamento de pesca do estado de São Paulo (50 quilos) deve pagar uma multa de R$ 4,00 por quilo excedente. João precisa que você faça um programa que leia a variável peso (peso de peixes) e calcule o excesso. Gravar na variável excesso a quantidade de quilos além do limite e na variável multa o valor da multa que João deverá pagar. Imprima os dados do programa com as mensagens adequadas.**"
      ]
    },
    {
      "cell_type": "code",
      "metadata": {
        "id": "LWKp-7bU5DF1",
        "colab": {
          "base_uri": "https://localhost:8080/"
        },
        "outputId": "9f1b9e7f-fc46-4bda-85e5-d422b02690a9"
      },
      "source": [
        "#A intenção era resolver sem estrutura de controle\n",
        "peso = float(input(\"Olá, quantos kg de peixe temos hoje? \"))\n",
        "multa = round(abs((50 - peso ) * 4) , 2)\n",
        "pesoExcedente = round(abs((50 - peso)), 2)\n",
        "print(\"Até 50kg não há multa. Para pesos menores que 50kg, ignore as mensagens abaixo!\") \n",
        "print(\"O peso excedente é de:\", pesoExcedente)\n",
        "print(\"A sua multa será de R$: \" , multa)\n",
        "\n",
        "#para valor arredondado usar a função round\n",
        "#para valor absoluto se usa a função abs"
      ],
      "execution_count": null,
      "outputs": [
        {
          "output_type": "stream",
          "name": "stdout",
          "text": [
            "Olá, quantos kg de peixe temos hoje? 10\n",
            "Até 50kg não há multa. Para pesos menores que 50kg, ignore as mensagens abaixo!\n",
            "O peso excedente é de: 40.0\n",
            "A sua multa será de R$:  160.0\n"
          ]
        }
      ]
    },
    {
      "cell_type": "markdown",
      "metadata": {
        "id": "U2hw3-K2Y5A7"
      },
      "source": [
        "**15. Faça um Programa que pergunte quanto você ganha por hora e o número de horas trabalhadas no mês. \n",
        "Calcule e mostre o total do seu salário no referido mês, sabendo-se que são descontados:** \n",
        "*   **11% para o Imposto de Renda**\n",
        "*   **8% para o INSS** \n",
        "*   **5% para o sindicato**\n",
        "\n",
        "**Faça um programa que nos dê:**\n",
        "\n",
        "*   **A) salário bruto**\n",
        "*   **B) quanto pagou ao INSS**\n",
        "*   **C) quanto pagou ao sindicato**\n",
        "*   **D) salário líquido**\n",
        "\n",
        "**E) Calcule os descontos e o salário líquido, conforme a tabela abaixo:**\n",
        "* **- Salário Bruto : RS**\n",
        "* **- IR(11 por cento ): RS**\n",
        "* **- INSS (8 por cento): RS**\n",
        "* **- Sindicato (5 por cento): RS**\n",
        "* **- Salário Liquido: RS**"
      ]
    },
    {
      "cell_type": "code",
      "metadata": {
        "colab": {
          "base_uri": "https://localhost:8080/"
        },
        "id": "xqVDE5QVZrwO",
        "outputId": "4d391619-f663-4ff1-ac83-ef6a253fd75f"
      },
      "source": [
        "#ENTRADA DE DADOS\n",
        "salarioHora= float(input(\"Por favor, quanto você ganha por hora?\"))\n",
        "HorasTrabalhadas= float(input(\"Por favor, quantas horas você trabalhou esse mês?\"))\n",
        "\n",
        "#CALCULOS\n",
        "salarioBruto = salarioHora * HorasTrabalhadas\n",
        "ir = salarioBruto * (11/100)\n",
        "inss = salarioBruto * (8/100)\n",
        "sindicato = salarioBruto * (5/100)\n",
        "salarioLiquido = salarioBruto - ir - inss - sindicato \n",
        "\n",
        "#EXIBIÇÃO DE DADOS\n",
        "print(\"Valor do salário bruto é: R$\" , salarioBruto)\n",
        "print(\"Valor do salário liquido é:  R$\" , salarioLiquido)\n",
        "print(\"Valor do ir é:  R$\" , ir)\n",
        "print(\"Valor do inss é:  R$\" , inss)\n",
        "print(\"valor do sindicato é:  R$\" , sindicato)\n"
      ],
      "execution_count": null,
      "outputs": [
        {
          "output_type": "stream",
          "name": "stdout",
          "text": [
            "Por favor, quanto você ganha por hora?10\n",
            "Por favor, quantas horas você trabalhou esse mês?10\n",
            "Valor do salário bruto é: R$ 100.0\n",
            "Valor do salário liquido é:  R$ 76.0\n",
            "Valor do ir é:  R$ 11.0\n",
            "Valor do inss é:  R$ 8.0\n",
            "valor do sindicato é:  R$ 5.0\n"
          ]
        }
      ]
    },
    {
      "cell_type": "markdown",
      "metadata": {
        "id": "VdYRUmBpzLxd"
      },
      "source": [
        "**16. Faça um programa para uma loja de tintas. O programa deverá pedir o tamanho em metros quadrados da área a ser pintada. Considere que a cobertura da tinta é de 1 litro para cada 3 metros quadrados e que a tinta é vendida em latas de 18 litros, que custam R$ 80,00. Informe ao usuário a quantidades de latas de tinta a serem compradas e o preço total.**"
      ]
    },
    {
      "cell_type": "code",
      "metadata": {
        "colab": {
          "base_uri": "https://localhost:8080/"
        },
        "id": "OBaBBpm_rc24",
        "outputId": "548f3283-e463-4cb7-cc82-c8df3a250e42"
      },
      "source": [
        "#inclusão de biblioteca\n",
        "import math\n",
        "\n",
        "#entrada de dados\n",
        "area = float(input(\"Por favor, informe quantos metros quadrados vão ser pintados. \"))\n",
        "\n",
        "#calculos\n",
        "litros = area / 3 \n",
        "latas = litros /18\n",
        "latas = math.ceil(latas) #consideramos que não há venda de latas de tinta parcialmente\n",
        "preco = latas *80\n",
        "\n",
        "#exibição dos resultados\n",
        "print (\"Você precisará de:\")\n",
        "print(latas, \" lata(s)\")\n",
        "print(\"R$\" , preco , \" preço\")"
      ],
      "execution_count": 35,
      "outputs": [
        {
          "output_type": "stream",
          "name": "stdout",
          "text": [
            "Por favor, informe quantos metros quadrados vão ser pintados. 108.01\n",
            "Você precisará de:\n",
            "3  lata(s)\n",
            "R$ 240  preço\n"
          ]
        }
      ]
    },
    {
      "cell_type": "markdown",
      "metadata": {
        "id": "b9UkjEnGzTjl"
      },
      "source": [
        "**17. Faça um Programa para uma loja de tintas. O programa deverá pedir o tamanho em metros quadrados da área a ser pintada. Considere que a cobertura da tinta é de 1 litro para cada 6 metros quadrados e que a tinta é vendida em latas de 18 litros, que custam RS 80,00, ou em galoes de 3,6 litros, que custam RS 25,00.**\n",
        "\n",
        "**Informe ao usuário as quantidades de tinta a serem compradas e os respectivos preços em 3 situações:**\n",
        "\n",
        "* comprar apenas latas de 18 litros;\n",
        "* comprar apenas galões de 3,6 litros;\n",
        "* misturar latas e galões, de forma que o desperdício de tinta seja menor. \n",
        "\n",
        "**Acrescente 10% de folga e sempre arredonde os valores para cima, isto é, considere latas cheias.** "
      ]
    },
    {
      "cell_type": "code",
      "metadata": {
        "colab": {
          "base_uri": "https://localhost:8080/"
        },
        "id": "xTBTclAv4bBr",
        "outputId": "85878b5c-582d-4c00-9a61-6f8bcbdb7b8e"
      },
      "source": [
        "#inclusão de biblioteca\n",
        "import math\n",
        "\n",
        "#entrada de dados\n",
        "area = float(input(\"Por favor, informe quantos metros quadrados vão ser pintados. \"))\n",
        "\n",
        "#calculos gerais\n",
        "litros = area / 6\n",
        "\n",
        "#calculo latas\n",
        "latas = litros /18\n",
        "latas = math.ceil(latas) \n",
        "precoLatas = latas *80\n",
        "\n",
        "#calculo dos galoes\n",
        "galoes = litros / 3.6\n",
        "galoes = math.ceil(galoes) \n",
        "precoGaloes = galoes * 25\n",
        "\n",
        "#exibição dos resultados em latas\n",
        "print (\"Você precisará de:\")\n",
        "print(latas, \" lata(s)\")\n",
        "print(\"R$\" , precoLatas , \" preço\")\n",
        "print(\"--------------------------------------------------\")\n",
        "print (\"Você precisará de:\")\n",
        "print(galoes, \" galão(ões)\")\n",
        "print(\"R$\" , precoGaloes , \" preço\")\n",
        "print(\"--------------------------------------------------\")\n",
        "#print (\"Você precisará de:\")\n",
        "#print(latas, \" galão(ões)\")\n",
        "#print(\"R$\" , precoGaloes , \" preço\")"
      ],
      "execution_count": 51,
      "outputs": [
        {
          "output_type": "stream",
          "name": "stdout",
          "text": [
            "Por favor, informe quantos metros quadrados vão ser pintados. 54\n",
            "Você precisará de:\n",
            "1  lata(s)\n",
            "R$ 80  preço\n",
            "--------------------------------------------------\n",
            "Você precisará de:\n",
            "3  galão(ões)\n",
            "R$ 75  preço\n",
            "--------------------------------------------------\n"
          ]
        }
      ]
    },
    {
      "cell_type": "markdown",
      "metadata": {
        "id": "Fxt4S8YIzQtP"
      },
      "source": [
        "**18. Faça um programa que peça o tamanho de um arquivo para download (em MB) e a velocidade de um link de Internet (em Mbps), calcule e informe o tempo aproximado de download do arquivo usando este link (em minutos).**"
      ]
    },
    {
      "cell_type": "code",
      "metadata": {
        "id": "qKSaP0gS0HDO"
      },
      "source": [
        ""
      ],
      "execution_count": null,
      "outputs": []
    }
  ]
}